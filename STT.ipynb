{
 "cells": [
  {
   "cell_type": "code",
   "execution_count": 3,
   "metadata": {},
   "outputs": [],
   "source": [
    "\n",
    "from langchain_core.prompts import ChatPromptTemplate\n",
    "from langchain_core.output_parsers import StrOutputParser\n",
    "from langchain_community.llms import Together\n",
    "from langchain.memory import ConversationBufferMemory\n",
    "from langchain.chains import LLMChain\n"
   ]
  },
  {
   "cell_type": "code",
   "execution_count": 122,
   "metadata": {},
   "outputs": [],
   "source": [
    "# converstion memory\n",
    "memory = ConversationBufferMemory(memory_key=\"chat_history\")\n"
   ]
  },
  {
   "cell_type": "code",
   "execution_count": 132,
   "metadata": {},
   "outputs": [
    {
     "name": "stderr",
     "output_type": "stream",
     "text": [
      "e:\\AIML-Speech-2-Text\\.venv\\Lib\\site-packages\\whisper\\__init__.py:146: FutureWarning: You are using `torch.load` with `weights_only=False` (the current default value), which uses the default pickle module implicitly. It is possible to construct malicious pickle data which will execute arbitrary code during unpickling (See https://github.com/pytorch/pytorch/blob/main/SECURITY.md#untrusted-models for more details). In a future release, the default value for `weights_only` will be flipped to `True`. This limits the functions that could be executed during unpickling. Arbitrary objects will no longer be allowed to be loaded via this mode unless they are explicitly allowlisted by the user via `torch.serialization.add_safe_globals`. We recommend you start setting `weights_only=True` for any use case where you don't have full control of the loaded file. Please open an issue on GitHub for any issues related to this experimental feature.\n",
      "  checkpoint = torch.load(fp, map_location=device)\n",
      "e:\\AIML-Speech-2-Text\\.venv\\Lib\\site-packages\\whisper\\transcribe.py:115: UserWarning: FP16 is not supported on CPU; using FP32 instead\n",
      "  warnings.warn(\"FP16 is not supported on CPU; using FP32 instead\")\n"
     ]
    }
   ],
   "source": [
    "\n",
    "import whisper\n",
    "model = whisper.load_model(\"base\")\n",
    "result = model.transcribe(\"long-conv.mp3\")\n",
    "new_result = result[\"text\"]"
   ]
  },
  {
   "cell_type": "code",
   "execution_count": 133,
   "metadata": {},
   "outputs": [
    {
     "name": "stdout",
     "output_type": "stream",
     "text": [
      " Alex, have you seen the latest report on climate change? It's pretty alarming. Jamie, yeah, I did. The rising temperatures and extreme weather events are really concerning. It's like we're seeing the effects in real time now. Alex, absolutely. Just look at all the wildfires and floods recently. It makes you realize how urgent it is for everyone to take action, both governments and individuals. Jamie, I agree. I've been trying to reduce my carbon footprint, but sometimes it feels like a drop in the ocean compared to what big corporations are doing. Alex, true, but every little bit helps. Plus, raising awareness can push companies and governments to make bigger changes. Jamie, speaking of change, have you noticed how fast AI and automation are taking over jobs? It's kind of scary. Alex, it is, but it's also exciting in a way. AI has the potential to improve so many aspects of our lives from healthcare to transportation. Jamie, that's true, but I worry about the impact on employment. What happens to people who lose their jobs to automation? Not everyone can just switch to tech jobs, you know? Alex, definitely a valid concern. I think there needs to be a focus on reskilling and education. Governments and companies should work together to help people transition into new roles. Jamie, yeah, and we should also be thinking about ethical guidelines for AI. It's important to make sure these technologies are used responsibly. Alex, on a different note, have you been following the news about new pandemics popping up? Just like we're not done with COVID and there's already talk of new threats. Jamie, I know, right? It's a bit overwhelming, but it's also a reminder of how interconnected our world is. A virus in one part of the world can spread globally in no time. Alex, that's why global cooperation is so crucial. Sharing data, resources, and vaccines can make a huge difference in how we tackle these health crises. Jamie, totally, and it's not just about reacting to pandemics, but also investing in healthcare infrastructure and research. So we're better prepared in the future. Alex, agreed. It also highlights the importance of addressing health disparities. Some countries still don't have access to basic healthcare, which makes them more vulnerable. Jamie, switching gears, what do you think about the recent geopolitical tensions? There's so much happening with countries flexing their military muscles. Alex, it's definitely a tense time. The conflicts and power struggles are a bit worrying. It feels like the world is on edge more than ever. Jamie, yeah, it's like every region has its own issues and they all seem to be escalating. It makes me wonder if we're heading towards more conflicts or if diplomacy will prevail. Alex, I hope it's the latter. Diplomacy and dialogue are key to resolving these issues peacefully, but it requires leaders to prioritize long-term stability over short-term gains. Jamie, right, and it's not just the governments. Citizens also play a role by pushing for peace and understanding, especially in this age of social media, where misinformation can easily escalate tensions. Alex, true. Staying informed and promoting constructive dialogue can help bridge divides and foster a more peaceful, global community.\n"
     ]
    }
   ],
   "source": [
    "print(new_result)"
   ]
  },
  {
   "cell_type": "code",
   "execution_count": 142,
   "metadata": {},
   "outputs": [],
   "source": [
    "model = Together(\n",
    "    model=\"mistralai/Mixtral-8x7B-Instruct-v0.1\",\n",
    "    temperature=0.2,\n",
    "    max_tokens=5000,\n",
    "    top_k=50,\n",
    "    verbose=False,\n",
    "    together_api_key=\"\"\n",
    ") "
   ]
  },
  {
   "cell_type": "code",
   "execution_count": 158,
   "metadata": {},
   "outputs": [],
   "source": [
    "template2 = \"\"\"\n",
    "Your task is to analyze the provided context and extract the following concepts from the text\n",
    "\"Sentiment\": Anaylize the sentiment of a sentences in the context unitil it changes. Then print those sentences and the classify them as Neutral, Negative, or Positive, and print the intent as well. Do the same for the remaining context.\n",
    "\n",
    "\n",
    "\"Overall Serntiment\": Print the overall sentiemnt of the context.\n",
    "\n",
    "\"Overall Intent\": Print the overall intent of the context.\n",
    "\n",
    "\"Topics\": Identify the topics discussed in the context.\n",
    "\n",
    "\n",
    "\"Summary\": Summarize the context with only the most important information.\n",
    "\n",
    "display this in a jason format\n",
    "Context:\n",
    "{context}\n",
    "\"\"\""
   ]
  },
  {
   "cell_type": "code",
   "execution_count": 159,
   "metadata": {},
   "outputs": [],
   "source": [
    "prompt = ChatPromptTemplate.from_template(template2)\n",
    "\n",
    "# Define the chain\n",
    "chain = LLMChain(\n",
    "    prompt=prompt,\n",
    "    llm=model,\n",
    "    memory=memory,\n",
    "    output_parser=StrOutputParser(),\n",
    "    verbose=False\n",
    ")"
   ]
  },
  {
   "cell_type": "code",
   "execution_count": 160,
   "metadata": {},
   "outputs": [
    {
     "name": "stdout",
     "output_type": "stream",
     "text": [
      "\n",
      "\n",
      "\n",
      "{\n",
      "\"Sentiments\": [\n",
      "{\n",
      "\"Sentences\": \"Alex, have you seen the latest report on climate change? It's pretty alarming.\",\n",
      "\"Sentiment\": \"Negative\",\n",
      "\"Intent\": \"Information\"\n",
      "},\n",
      "{\n",
      "\"Sentences\": \"Jamie, yeah, I did. The rising temperatures and extreme weather events are really concerning. It's like we're seeing the effects in real time now.\",\n",
      "\"Sentiment\": \"Negative\",\n",
      "\"Intent\": \"Information\"\n",
      "},\n",
      "{\n",
      "\"Sentences\": \"Alex, absolutely. Just look at all the wildfires and floods recently. It makes you realize how urgent it is for everyone to take action, both governments and individuals.\",\n",
      "\"Sentiment\": \"Negative\",\n",
      "\"Intent\": \"Information\"\n",
      "},\n",
      "{\n",
      "\"Sentences\": \"Jamie, I agree. I've been trying to reduce my carbon footprint, but sometimes it feels like a drop in the ocean compared to what big corporations are doing.\",\n",
      "\"Sentiment\": \"Negative\",\n",
      "\"Intent\": \"Information\"\n",
      "},\n",
      "{\n",
      "\"Sentences\": \"Alex, true, but every little bit helps. Plus, raising awareness can push companies and governments to make bigger changes.\",\n",
      "\"Sentiment\": \"Positive\",\n",
      "\"Intent\": \"Information\"\n",
      "},\n",
      "{\n",
      "\"Sentences\": \"Jamie, speaking of change, have you noticed how fast AI and automation are taking over jobs? It's kind of scary.\",\n",
      "\"Sentiment\": \"Negative\",\n",
      "\"Intent\": \"Information\"\n",
      "},\n",
      "{\n",
      "\"Sentences\": \"Alex, it is, but it's also exciting in a way. AI has the potential to improve so many aspects of our lives from healthcare to transportation.\",\n",
      "\"Sentiment\": \"Positive\",\n",
      "\"Intent\": \"Information\"\n",
      "},\n",
      "{\n",
      "\"Sentences\": \"Jamie, that's true, but I worry about the impact on employment. What happens to people who lose their jobs to automation? Not everyone can just switch to tech jobs, you know?\",\n",
      "\"Sentiment\": \"Negative\",\n",
      "\"Intent\": \"Information\"\n",
      "},\n",
      "{\n",
      "\"Sentences\": \"Alex, definitely a valid concern. I think there needs to be a focus on reskilling and education. Governments and companies should work together to help people transition into new roles.\",\n",
      "\"Sentiment\": \"Positive\",\n",
      "\"Intent\": \"Information\"\n",
      "},\n",
      "{\n",
      "\"Sentences\": \"Jamie, yeah, and we should also be thinking about ethical guidelines for AI. It's important to make sure these technologies are used responsibly.\",\n",
      "\"Sentiment\": \"Positive\",\n",
      "\"Intent\": \"Information\"\n",
      "},\n",
      "{\n",
      "\"Sentences\": \"Alex, on a different note, have you been following the news about new pandemics popping up? Just like we're not done with COVID and there's already talk of new threats.\",\n",
      "\"Sentiment\": \"Negative\",\n",
      "\"Intent\": \"Information\"\n",
      "},\n",
      "{\n",
      "\"Sentences\": \"Jamie, I know, right? It's a bit overwhelming, but it's also a reminder of how interconnected our world is. A virus in one part of the world can spread globally in no time.\",\n",
      "\"Sentiment\": \"Negative\",\n",
      "\"Intent\": \"Information\"\n",
      "},\n",
      "{\n",
      "\"Sentences\": \"Alex, that's why global cooperation is so crucial. Sharing data, resources, and vaccines can make a huge difference in how we tackle these health crises.\",\n",
      "\"Sentiment\": \"Positive\",\n",
      "\"Intent\": \"Information\"\n",
      "},\n",
      "{\n",
      "\"Sentences\": \"Jamie, totally, and it's not just about reacting to pandemics, but also investing in healthcare infrastructure and research. So we're better prepared in the future.\",\n",
      "\"Sentiment\": \"Positive\",\n",
      "\"Intent\": \"Information\"\n",
      "},\n",
      "{\n",
      "\"Sentences\": \"Alex, agreed. It also highlights the importance of addressing health disparities. Some countries still don't have access to basic healthcare, which makes them more vulnerable.\",\n",
      "\"Sentiment\": \"Positive\",\n",
      "\"Intent\": \"Information\"\n",
      "},\n",
      "{\n",
      "\"Sentences\": \"Jamie, switching gears, what do you think about the recent geopolitical tensions? There's so much happening with countries flexing their military muscles.\",\n",
      "\"Sentiment\": \"Negative\",\n",
      "\"Intent\": \"Information\"\n",
      "},\n",
      "{\n",
      "\"Sentences\": \"Alex, it's definitely a tense time. The conflicts and power struggles are a bit worrying. It feels like the world is on edge more than ever.\",\n",
      "\"Sentiment\": \"Negative\",\n",
      "\"Intent\": \"Information\"\n",
      "},\n",
      "{\n",
      "\"Sentences\": \"Jamie, yeah, it's like every region has its own issues and they all seem to be escalating. It makes me wonder if we're heading towards more conflicts or if diplomacy will prevail.\",\n",
      "\"Sentiment\": \"Negative\",\n",
      "\"Intent\": \"Information\"\n",
      "},\n",
      "{\n",
      "\"Sentences\": \"Alex, I hope it's the latter. Diplomacy and dialogue are key to resolving these issues peacefully, but it requires leaders to prioritize long-term stability over short-term gains.\",\n",
      "\"Sentiment\": \"Positive\",\n",
      "\"Intent\": \"Information\"\n",
      "},\n",
      "{\n",
      "\"Sentences\": \"Jamie, right, and it's not just the governments. Citizens also play a role by pushing for peace and understanding, especially in this age of social media, where misinformation can easily escalate tensions.\",\n",
      "\"Sentiment\": \"Positive\",\n",
      "\"Intent\": \"Information\"\n",
      "},\n",
      "{\n",
      "\"Sentences\": \"Alex, true. Staying informed and promoting constructive dialogue can help bridge divides and foster a more peaceful, global community.\",\n",
      "\"Sentiment\": \"Positive\",\n",
      "\"Intent\": \"Information\"\n",
      "}\n",
      "],\n",
      "\"Overall Sentiment\": \"Negative\",\n",
      "\"Overall Intent\": \"Information\",\n",
      "\"Topics\": [\n",
      "\"Climate Change\",\n",
      "\"AI and Automation\",\n",
      "\"Global Health\",\n",
      "\"Geopolitical Tensions\"\n",
      "],\n",
      "\"Summary\": \"The conversation covers various topics including the alarming report on climate change, the rapid takeover of jobs by AI and automation, global health crises, and geopolitical tensions. The overall sentiment is negative, with concerns raised about the impacts of these issues. The speakers express hope for diplomacy and positive actions to address these challenges.\"\n",
      "}\n"
     ]
    }
   ],
   "source": [
    "response = chain.invoke({\"context\": new_result})\n",
    "\n",
    "print(response['text'])"
   ]
  },
  {
   "cell_type": "code",
   "execution_count": null,
   "metadata": {},
   "outputs": [],
   "source": []
  }
 ],
 "metadata": {
  "kernelspec": {
   "display_name": ".venv",
   "language": "python",
   "name": "python3"
  },
  "language_info": {
   "codemirror_mode": {
    "name": "ipython",
    "version": 3
   },
   "file_extension": ".py",
   "mimetype": "text/x-python",
   "name": "python",
   "nbconvert_exporter": "python",
   "pygments_lexer": "ipython3",
   "version": "3.11.9"
  }
 },
 "nbformat": 4,
 "nbformat_minor": 2
}
